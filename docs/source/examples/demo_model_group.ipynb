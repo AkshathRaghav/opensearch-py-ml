{
 "cells": [
  {
   "cell_type": "code",
   "execution_count": 1,
   "metadata": {},
   "outputs": [],
   "source": [
    "%load_ext autoreload\n",
    "%autoreload 2"
   ]
  },
  {
   "cell_type": "code",
   "execution_count": 2,
   "metadata": {},
   "outputs": [],
   "source": [
    "# import this to stop opensearch-py-ml from yelling every time a DataFrame connection made\n",
    "import warnings\n",
    "warnings.filterwarnings('ignore')"
   ]
  },
  {
   "cell_type": "code",
   "execution_count": 4,
   "metadata": {},
   "outputs": [
    {
     "name": "stdout",
     "output_type": "stream",
     "text": [
      "Collecting opensearch-py-ml\n",
      "  Using cached opensearch_py_ml-1.1.0-py3-none-any.whl (143 kB)\n",
      "Collecting opensearch-py>=2\n",
      "  Using cached opensearch_py-2.3.1-py2.py3-none-any.whl (327 kB)\n",
      "Requirement already satisfied: pandas<3,>=1.5 in c:\\python311\\lib\\site-packages (from opensearch-py-ml) (1.5.3)\n",
      "Requirement already satisfied: matplotlib<4,>=3.6.0 in c:\\users\\aksha\\appdata\\roaming\\python\\python311\\site-packages (from opensearch-py-ml) (3.6.3)\n",
      "Requirement already satisfied: numpy<2,>=1.24.0 in c:\\python311\\lib\\site-packages (from opensearch-py-ml) (1.24.2)\n",
      "Requirement already satisfied: contourpy>=1.0.1 in c:\\users\\aksha\\appdata\\roaming\\python\\python311\\site-packages (from matplotlib<4,>=3.6.0->opensearch-py-ml) (1.0.7)\n",
      "Requirement already satisfied: cycler>=0.10 in c:\\users\\aksha\\appdata\\roaming\\python\\python311\\site-packages (from matplotlib<4,>=3.6.0->opensearch-py-ml) (0.11.0)\n",
      "Requirement already satisfied: fonttools>=4.22.0 in c:\\python311\\lib\\site-packages (from matplotlib<4,>=3.6.0->opensearch-py-ml) (4.38.0)\n",
      "Requirement already satisfied: kiwisolver>=1.0.1 in c:\\python311\\lib\\site-packages (from matplotlib<4,>=3.6.0->opensearch-py-ml) (1.4.4)\n",
      "Requirement already satisfied: packaging>=20.0 in c:\\python311\\lib\\site-packages (from matplotlib<4,>=3.6.0->opensearch-py-ml) (23.0)\n",
      "Requirement already satisfied: pillow>=6.2.0 in c:\\python311\\lib\\site-packages (from matplotlib<4,>=3.6.0->opensearch-py-ml) (9.4.0)\n",
      "Requirement already satisfied: pyparsing>=2.2.1 in c:\\python311\\lib\\site-packages (from matplotlib<4,>=3.6.0->opensearch-py-ml) (3.0.9)\n",
      "Requirement already satisfied: python-dateutil>=2.7 in c:\\python311\\lib\\site-packages (from matplotlib<4,>=3.6.0->opensearch-py-ml) (2.8.2)\n",
      "Requirement already satisfied: urllib3<2,>=1.21.1 in c:\\python311\\lib\\site-packages (from opensearch-py>=2->opensearch-py-ml) (1.26.14)\n",
      "Requirement already satisfied: requests<3.0.0,>=2.4.0 in c:\\users\\aksha\\appdata\\roaming\\python\\python311\\site-packages (from opensearch-py>=2->opensearch-py-ml) (2.28.2)\n",
      "Requirement already satisfied: six in c:\\python311\\lib\\site-packages (from opensearch-py>=2->opensearch-py-ml) (1.16.0)\n",
      "Requirement already satisfied: certifi>=2022.12.07 in c:\\users\\aksha\\appdata\\roaming\\python\\python311\\site-packages (from opensearch-py>=2->opensearch-py-ml) (2022.12.7)\n",
      "Requirement already satisfied: pytz>=2020.1 in c:\\python311\\lib\\site-packages (from pandas<3,>=1.5->opensearch-py-ml) (2022.7.1)\n",
      "Requirement already satisfied: charset-normalizer<4,>=2 in c:\\python311\\lib\\site-packages (from requests<3.0.0,>=2.4.0->opensearch-py>=2->opensearch-py-ml) (3.0.1)\n",
      "Requirement already satisfied: idna<4,>=2.5 in c:\\users\\aksha\\appdata\\roaming\\python\\python311\\site-packages (from requests<3.0.0,>=2.4.0->opensearch-py>=2->opensearch-py-ml) (3.4)\n",
      "Installing collected packages: opensearch-py, opensearch-py-ml\n",
      "Successfully installed opensearch-py-2.3.1 opensearch-py-ml-1.1.0\n"
     ]
    },
    {
     "name": "stderr",
     "output_type": "stream",
     "text": [
      "\n",
      "[notice] A new release of pip is available: 23.0.1 -> 23.2.1\n",
      "[notice] To update, run: python.exe -m pip install --upgrade pip\n"
     ]
    }
   ],
   "source": [
    "!python -m pip install opensearch-py-ml"
   ]
  },
  {
   "cell_type": "code",
   "execution_count": 6,
   "metadata": {},
   "outputs": [
    {
     "name": "stdout",
     "output_type": "stream",
     "text": [
      "Collecting pytest\n",
      "  Downloading pytest-7.4.2-py3-none-any.whl (324 kB)\n",
      "     ---------------------------------------- 0.0/324.5 kB ? eta -:--:--\n",
      "     -------------------------------------  317.4/324.5 kB 9.9 MB/s eta 0:00:01\n",
      "     -------------------------------------- 324.5/324.5 kB 6.7 MB/s eta 0:00:00\n",
      "Collecting iniconfig\n",
      "  Downloading iniconfig-2.0.0-py3-none-any.whl (5.9 kB)\n",
      "Requirement already satisfied: packaging in c:\\python311\\lib\\site-packages (from pytest) (23.0)\n",
      "Collecting pluggy<2.0,>=0.12\n",
      "  Downloading pluggy-1.3.0-py3-none-any.whl (18 kB)\n",
      "Requirement already satisfied: colorama in c:\\python311\\lib\\site-packages (from pytest) (0.4.6)\n",
      "Installing collected packages: pluggy, iniconfig, pytest\n",
      "Successfully installed iniconfig-2.0.0 pluggy-1.3.0 pytest-7.4.2\n"
     ]
    },
    {
     "name": "stderr",
     "output_type": "stream",
     "text": [
      "\n",
      "[notice] A new release of pip is available: 23.0.1 -> 23.2.1\n",
      "[notice] To update, run: python.exe -m pip install --upgrade pip\n"
     ]
    }
   ],
   "source": [
    "!python -m pip install pytest --user"
   ]
  },
  {
   "cell_type": "code",
   "execution_count": 7,
   "metadata": {},
   "outputs": [],
   "source": [
    "import pandas as pd\n",
    "import numpy as np\n",
    "import matplotlib.pyplot as plt\n",
    "import opensearch_py_ml as oml\n",
    "from opensearchpy import OpenSearch\n",
    "\n",
    "# Import standard test settings for consistent results\n",
    "from opensearch_py_ml.conftest import *"
   ]
  },
  {
   "cell_type": "code",
   "execution_count": 8,
   "metadata": {},
   "outputs": [],
   "source": [
    "CLUSTER_URL = 'https://localhost:9200'\n",
    "\n",
    "def get_os_client(cluster_url = CLUSTER_URL,\n",
    "                  username='admin',\n",
    "                  password='admin'):\n",
    "    \"\"\"\n",
    "    Get OpenSearch client\n",
    "    :param cluster_url: cluster URL like https://ml-te-netwo-1s12ba42br23v-ff1736fa7db98ff2.elb.us-west-2.amazonaws.com:443\n",
    "    :return: OpenSearch client\n",
    "    \"\"\"\n",
    "    client = OpenSearch(\n",
    "        hosts=[cluster_url],\n",
    "        http_auth=(username, password),\n",
    "        verify_certs=False,\n",
    "        timeout = 30\n",
    "    )\n",
    "    return client\n"
   ]
  },
  {
   "cell_type": "code",
   "execution_count": 10,
   "metadata": {},
   "outputs": [],
   "source": [
    "client = get_os_client()"
   ]
  },
  {
   "cell_type": "code",
   "execution_count": 2,
   "metadata": {},
   "outputs": [
    {
     "ename": "SyntaxError",
     "evalue": "invalid syntax (2408605252.py, line 1)",
     "output_type": "error",
     "traceback": [
      "\u001b[1;36m  Cell \u001b[1;32mIn[2], line 1\u001b[1;36m\u001b[0m\n\u001b[1;33m    from opensearch_py_ml import ml_commons.ml_commons_client\u001b[0m\n\u001b[1;37m                                           ^\u001b[0m\n\u001b[1;31mSyntaxError\u001b[0m\u001b[1;31m:\u001b[0m invalid syntax\n"
     ]
    }
   ],
   "source": [
    "from opensearch_py_ml import ml_commons.ml_commons_client"
   ]
  },
  {
   "cell_type": "code",
   "execution_count": 5,
   "metadata": {},
   "outputs": [],
   "source": [
    "import sys\n",
    "sys.path.append(r\"C:\\AA-Codebench\\aws\\opensearch-py-ml\\opensearch-py-ml1\")"
   ]
  },
  {
   "cell_type": "code",
   "execution_count": 6,
   "metadata": {},
   "outputs": [
    {
     "ename": "ModuleNotFoundError",
     "evalue": "No module named 'deprecated'",
     "output_type": "error",
     "traceback": [
      "\u001b[1;31m---------------------------------------------------------------------------\u001b[0m",
      "\u001b[1;31mModuleNotFoundError\u001b[0m                       Traceback (most recent call last)",
      "\u001b[1;32mc:\\AA-Codebench\\aws\\opensearch-py-ml\\docs\\source\\examples\\demo_model_group.ipynb Cell 10\u001b[0m line \u001b[0;36m1\n\u001b[1;32m----> <a href='vscode-notebook-cell:/c%3A/AA-Codebench/aws/opensearch-py-ml/docs/source/examples/demo_model_group.ipynb#X12sZmlsZQ%3D%3D?line=0'>1</a>\u001b[0m \u001b[39mfrom\u001b[39;00m \u001b[39mopensearch_py_ml1\u001b[39;00m \u001b[39mimport\u001b[39;00m ml_commons\n",
      "File \u001b[1;32mC:\\AA-Codebench\\aws\\opensearch-py-ml\\opensearch_py_ml1\\ml_commons\\__init__.py:10\u001b[0m\n\u001b[0;32m      1\u001b[0m \u001b[39m# SPDX-License-Identifier: Apache-2.0\u001b[39;00m\n\u001b[0;32m      2\u001b[0m \u001b[39m# The OpenSearch Contributors require contributions made to\u001b[39;00m\n\u001b[0;32m      3\u001b[0m \u001b[39m# this file be licensed under the Apache-2.0 license or a\u001b[39;00m\n\u001b[1;32m   (...)\u001b[0m\n\u001b[0;32m      7\u001b[0m \n\u001b[0;32m      8\u001b[0m \u001b[39m# Integrating MLCommons plugin\u001b[39;00m\n\u001b[1;32m---> 10\u001b[0m \u001b[39mfrom\u001b[39;00m \u001b[39mopensearch_py_ml\u001b[39;00m\u001b[39m.\u001b[39;00m\u001b[39mml_commons\u001b[39;00m\u001b[39m.\u001b[39;00m\u001b[39mml_commons_client\u001b[39;00m \u001b[39mimport\u001b[39;00m MLCommonClient\n\u001b[0;32m     11\u001b[0m \u001b[39mfrom\u001b[39;00m \u001b[39mopensearch_py_ml\u001b[39;00m\u001b[39m.\u001b[39;00m\u001b[39mml_commons\u001b[39;00m\u001b[39m.\u001b[39;00m\u001b[39mmodel_execute\u001b[39;00m \u001b[39mimport\u001b[39;00m ModelExecute\n\u001b[0;32m     12\u001b[0m \u001b[39mfrom\u001b[39;00m \u001b[39mopensearch_py_ml\u001b[39;00m\u001b[39m.\u001b[39;00m\u001b[39mml_commons\u001b[39;00m\u001b[39m.\u001b[39;00m\u001b[39mmodel_uploader\u001b[39;00m \u001b[39mimport\u001b[39;00m ModelUploader\n",
      "File \u001b[1;32mc:\\Python311\\Lib\\site-packages\\opensearch_py_ml\\ml_commons\\__init__.py:10\u001b[0m\n\u001b[0;32m      1\u001b[0m \u001b[39m# SPDX-License-Identifier: Apache-2.0\u001b[39;00m\n\u001b[0;32m      2\u001b[0m \u001b[39m# The OpenSearch Contributors require contributions made to\u001b[39;00m\n\u001b[0;32m      3\u001b[0m \u001b[39m# this file be licensed under the Apache-2.0 license or a\u001b[39;00m\n\u001b[1;32m   (...)\u001b[0m\n\u001b[0;32m      7\u001b[0m \n\u001b[0;32m      8\u001b[0m \u001b[39m# Integrating MLCommons plugin\u001b[39;00m\n\u001b[1;32m---> 10\u001b[0m \u001b[39mfrom\u001b[39;00m \u001b[39mopensearch_py_ml\u001b[39;00m\u001b[39m.\u001b[39;00m\u001b[39mml_commons\u001b[39;00m\u001b[39m.\u001b[39;00m\u001b[39mml_commons_client\u001b[39;00m \u001b[39mimport\u001b[39;00m MLCommonClient\n\u001b[0;32m     11\u001b[0m \u001b[39mfrom\u001b[39;00m \u001b[39mopensearch_py_ml\u001b[39;00m\u001b[39m.\u001b[39;00m\u001b[39mml_commons\u001b[39;00m\u001b[39m.\u001b[39;00m\u001b[39mmodel_execute\u001b[39;00m \u001b[39mimport\u001b[39;00m ModelExecute\n\u001b[0;32m     12\u001b[0m \u001b[39mfrom\u001b[39;00m \u001b[39mopensearch_py_ml\u001b[39;00m\u001b[39m.\u001b[39;00m\u001b[39mml_commons\u001b[39;00m\u001b[39m.\u001b[39;00m\u001b[39mmodel_uploader\u001b[39;00m \u001b[39mimport\u001b[39;00m ModelUploader\n",
      "File \u001b[1;32mc:\\Python311\\Lib\\site-packages\\opensearch_py_ml\\ml_commons\\ml_commons_client.py:13\u001b[0m\n\u001b[0;32m     10\u001b[0m \u001b[39mimport\u001b[39;00m \u001b[39mtime\u001b[39;00m\n\u001b[0;32m     11\u001b[0m \u001b[39mfrom\u001b[39;00m \u001b[39mtyping\u001b[39;00m \u001b[39mimport\u001b[39;00m Any, List, Union\n\u001b[1;32m---> 13\u001b[0m \u001b[39mfrom\u001b[39;00m \u001b[39mdeprecated\u001b[39;00m\u001b[39m.\u001b[39;00m\u001b[39msphinx\u001b[39;00m \u001b[39mimport\u001b[39;00m deprecated\n\u001b[0;32m     14\u001b[0m \u001b[39mfrom\u001b[39;00m \u001b[39mopensearchpy\u001b[39;00m \u001b[39mimport\u001b[39;00m OpenSearch\n\u001b[0;32m     16\u001b[0m \u001b[39mfrom\u001b[39;00m \u001b[39mopensearch_py_ml\u001b[39;00m\u001b[39m.\u001b[39;00m\u001b[39mml_commons\u001b[39;00m\u001b[39m.\u001b[39;00m\u001b[39mml_common_utils\u001b[39;00m \u001b[39mimport\u001b[39;00m (\n\u001b[0;32m     17\u001b[0m     ML_BASE_URI,\n\u001b[0;32m     18\u001b[0m     MODEL_FORMAT_FIELD,\n\u001b[1;32m   (...)\u001b[0m\n\u001b[0;32m     22\u001b[0m     TIMEOUT,\n\u001b[0;32m     23\u001b[0m )\n",
      "\u001b[1;31mModuleNotFoundError\u001b[0m: No module named 'deprecated'"
     ]
    }
   ],
   "source": [
    "from opensearch_py_ml1 import ml_commons"
   ]
  },
  {
   "cell_type": "code",
   "execution_count": null,
   "metadata": {},
   "outputs": [],
   "source": []
  }
 ],
 "metadata": {
  "kernelspec": {
   "display_name": "Python 3",
   "language": "python",
   "name": "python3"
  },
  "language_info": {
   "codemirror_mode": {
    "name": "ipython",
    "version": 3
   },
   "file_extension": ".py",
   "mimetype": "text/x-python",
   "name": "python",
   "nbconvert_exporter": "python",
   "pygments_lexer": "ipython3",
   "version": "3.11.0"
  },
  "orig_nbformat": 4
 },
 "nbformat": 4,
 "nbformat_minor": 2
}
